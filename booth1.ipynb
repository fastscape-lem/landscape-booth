{
 "cells": [
  {
   "cell_type": "markdown",
   "id": "55c80d35-b4c8-46f5-8947-fd5da7d5d73c",
   "metadata": {},
   "source": [
    "# Landscape Booth 1"
   ]
  },
  {
   "cell_type": "code",
   "execution_count": null,
   "id": "3bd37b18-cdf3-4080-aec9-44de51d655b5",
   "metadata": {
    "tags": []
   },
   "outputs": [],
   "source": [
    "from booth import LEMBooth\n",
    "import matplotlib.pyplot as plt"
   ]
  },
  {
   "cell_type": "code",
   "execution_count": null,
   "id": "04f657dd-d506-4710-a9b0-eea3c4147b21",
   "metadata": {
    "tags": []
   },
   "outputs": [],
   "source": [
    "booth = LEMBooth(\n",
    "    scale=2.5,\n",
    "    particles=True,\n",
    "    particles_color=\"darkgray\",\n",
    "    cmap=plt.cm.gist_earth,\n",
    ")\n",
    "booth.show()"
   ]
  }
 ],
 "metadata": {
  "kernelspec": {
   "display_name": "Python 3 (ipykernel)",
   "language": "python",
   "name": "python3"
  },
  "language_info": {
   "codemirror_mode": {
    "name": "ipython",
    "version": 3
   },
   "file_extension": ".py",
   "mimetype": "text/x-python",
   "name": "python",
   "nbconvert_exporter": "python",
   "pygments_lexer": "ipython3",
   "version": "3.11.3"
  }
 },
 "nbformat": 4,
 "nbformat_minor": 5
}
