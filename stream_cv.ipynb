{
 "cells": [
  {
   "cell_type": "code",
   "execution_count": null,
   "id": "1fcd7b34-4696-4e41-a758-3f05871c8314",
   "metadata": {},
   "outputs": [],
   "source": [
    "import io\n",
    "\n",
    "import cv2\n",
    "import ipywidgets\n",
    "import numpy as np\n",
    "from ipywebrtc import CameraStream, ImageRecorder"
   ]
  },
  {
   "cell_type": "code",
   "execution_count": null,
   "id": "2062d3ab-6be0-45a7-9e68-85ebdc0a30b3",
   "metadata": {},
   "outputs": [],
   "source": [
    "camera = CameraStream(\n",
    "    constraints={\n",
    "        'facing_mode': 'user',\n",
    "        'audio': False,\n",
    "        'video': { 'width': 450 }\n",
    "    }\n",
    ")\n",
    "\n",
    "image_recorder = ImageRecorder(stream=camera)"
   ]
  },
  {
   "cell_type": "code",
   "execution_count": null,
   "id": "46dd4b09-0959-4d9f-8a43-407f02af6ef0",
   "metadata": {},
   "outputs": [],
   "source": [
    "# download file at https://raw.githubusercontent.com/opencv/opencv/master/data/haarcascades/haarcascade_frontalface_default.xml\n",
    "\n",
    "face_cascade = cv2.CascadeClassifier('haarcascade_frontalface_default.xml')"
   ]
  },
  {
   "cell_type": "code",
   "execution_count": null,
   "id": "17b0524e-fc84-4a50-a9ac-47504e3c7b01",
   "metadata": {},
   "outputs": [],
   "source": [
    "def process(img_bytes):\n",
    "    arr = np.asarray(image_recorder.image.value, np.uint8)\n",
    "    img_np = cv2.imdecode(arr, cv2.IMREAD_COLOR)\n",
    "    gray = cv2.cvtColor(img_np, cv2.COLOR_BGR2GRAY)\n",
    "    \n",
    "    # Face detection\n",
    "    faces = face_cascade.detectMultiScale(gray, 1.1, 4)\n",
    "\n",
    "    # Process only one face\n",
    "    if len(faces) != 1:\n",
    "        return None\n",
    "\n",
    "    # Pad rectangle\n",
    "    pad_xy = 40, 70\n",
    "    rect = faces[0]\n",
    "    rect[0] -= pad_xy[0]\n",
    "    rect[1] -= pad_xy[1]\n",
    "    rect[2] += pad_xy[0]\n",
    "    rect[3] += pad_xy[1]\n",
    "\n",
    "    # two passes grabcut for background delineation\n",
    "    mask = np.zeros(img_np.shape[:2], dtype=np.uint8)\n",
    "    mask2 = np.zeros(img_np.shape[:2], dtype=np.uint8)\n",
    "    bgd_model = np.zeros((1, 65), np.float64)\n",
    "    fgd_model = np.zeros((1, 65), np.float64)\n",
    "    cv2.grabCut(img_np, mask, rect, bgd_model, fgd_model, 1, cv2.GC_INIT_WITH_RECT)\n",
    "    cv2.grabCut(img_np, mask, None, bgd_model, fgd_model, 1, cv2.GC_INIT_WITH_MASK)\n",
    "\n",
    "    mask = np.where((mask == cv2.GC_PR_BGD) | (mask == cv2.GC_BGD), 0, 1).astype('uint8')\n",
    "    masked = gray * mask\n",
    "    \n",
    "    # Edge detection\n",
    "    sobelxy = cv2.Sobel(src=masked, ddepth=cv2.CV_64F, dx=1, dy=1, ksize=5)\n",
    "    \n",
    "    # Blend\n",
    "    result_arr = np.maximum(masked * 0.5 + sobelxy, 1) \n",
    "    \n",
    "    _, result = cv2.imencode('.png', result_arr)\n",
    "    return result.tobytes()"
   ]
  },
  {
   "cell_type": "code",
   "execution_count": null,
   "id": "00dcffab-84af-4ab0-b925-926e2672322a",
   "metadata": {},
   "outputs": [],
   "source": [
    "out = ipywidgets.Image()\n",
    "stop_process = False\n",
    "\n",
    "def process_image(_):\n",
    "    if stop_process:\n",
    "        return\n",
    "\n",
    "    # update only if processing is successful\n",
    "    result = process(image_recorder.image.value)\n",
    "    if result is not None:\n",
    "        out.value = result\n",
    "\n",
    "    # infinite process loop (force toggle recording)\n",
    "    image_recorder.recording = False\n",
    "    image_recorder.recording = True\n",
    "\n",
    "image_recorder.image.observe(process_image, names=['value'])\n",
    "\n",
    "ipywidgets.HBox([image_recorder.stream, out])"
   ]
  },
  {
   "cell_type": "code",
   "execution_count": null,
   "id": "f37abf7b-4c78-4465-ade4-695be0837a98",
   "metadata": {},
   "outputs": [],
   "source": [
    "image_recorder.recording = True"
   ]
  },
  {
   "cell_type": "code",
   "execution_count": null,
   "id": "93143082-9858-4294-acb1-321ef98cc406",
   "metadata": {},
   "outputs": [],
   "source": [
    "stop_process = True"
   ]
  },
  {
   "cell_type": "code",
   "execution_count": null,
   "id": "57a467b9-2487-4d68-95e3-2b21bf0d61ac",
   "metadata": {},
   "outputs": [],
   "source": []
  },
  {
   "cell_type": "code",
   "execution_count": null,
   "id": "879e537d-6ad7-4f7f-8258-9850329768aa",
   "metadata": {},
   "outputs": [],
   "source": [
    "ipywidgets.Widget.close_all()"
   ]
  },
  {
   "cell_type": "code",
   "execution_count": null,
   "id": "5ddda013-86ce-426b-a6e0-b4e97085c1b9",
   "metadata": {},
   "outputs": [],
   "source": []
  }
 ],
 "metadata": {
  "kernelspec": {
   "display_name": "Python 3 (ipykernel)",
   "language": "python",
   "name": "python3"
  },
  "language_info": {
   "codemirror_mode": {
    "name": "ipython",
    "version": 3
   },
   "file_extension": ".py",
   "mimetype": "text/x-python",
   "name": "python",
   "nbconvert_exporter": "python",
   "pygments_lexer": "ipython3",
   "version": "3.11.3"
  }
 },
 "nbformat": 4,
 "nbformat_minor": 5
}
